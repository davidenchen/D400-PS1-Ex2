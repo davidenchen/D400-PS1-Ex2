{
 "cells": [
  {
   "cell_type": "code",
   "execution_count": 1,
   "id": "387d0a2e",
   "metadata": {},
   "outputs": [],
   "source": [
    "import fed.data\n",
    "import fed.plot_utils\n",
    "\n",
    "import pandas as pd\n",
    "import matplotlib.pyplot as plt"
   ]
  },
  {
   "cell_type": "markdown",
   "id": "60360fc0",
   "metadata": {},
   "source": [
    "Import and clean data"
   ]
  },
  {
   "cell_type": "code",
   "execution_count": 7,
   "id": "055ca355",
   "metadata": {},
   "outputs": [],
   "source": [
    "data_path = \"data/gdp.csv\"\n",
    "df = pd.read_csv(data_path, skiprows=4)\n",
    "\n",
    "relevant_countries = [\"United Kingdom\", \"United States\", \"Brazil\", \"Japan\", \"China\", \"Germany\", \"Switzerland\"]\n",
    "df = fed.data.keep_countries(df, relevant_countries)\n",
    "\n",
    "cols_to_drop = [\"Country Code\", \"Indicator Name\", \"Indicator Code\", \"Unnamed: 69\"]\n",
    "df = fed.data.drop_cols(df, cols_to_drop)\n",
    "\n",
    "df = fed.data.reshape_long(df, \"Country Name\", \"Year\", \"GDP\")"
   ]
  },
  {
   "cell_type": "markdown",
   "id": "904b2b6b",
   "metadata": {},
   "source": [
    "Plot data"
   ]
  },
  {
   "cell_type": "code",
   "execution_count": null,
   "id": "f47787f4",
   "metadata": {},
   "outputs": [],
   "source": []
  }
 ],
 "metadata": {
  "kernelspec": {
   "display_name": "ds400-ps1-ex2",
   "language": "python",
   "name": "python3"
  },
  "language_info": {
   "codemirror_mode": {
    "name": "ipython",
    "version": 3
   },
   "file_extension": ".py",
   "mimetype": "text/x-python",
   "name": "python",
   "nbconvert_exporter": "python",
   "pygments_lexer": "ipython3",
   "version": "3.12.12"
  }
 },
 "nbformat": 4,
 "nbformat_minor": 5
}
